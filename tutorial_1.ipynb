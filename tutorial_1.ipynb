{
 "cells": [
  {
   "cell_type": "code",
   "execution_count": 2,
   "id": "4ad50393",
   "metadata": {},
   "outputs": [],
   "source": [
    "import scanpy as sc\n",
    "import numpy as np\n",
    "import pandas as pd\n",
    "import matplotlib.pyplot as plt\n",
    "adata= sc.read_10x_mtx(\"/Users/shinjinichakraborty/desktop/filtered_feature_bc_matrix\")\n"
   ]
  },
  {
   "cell_type": "code",
   "execution_count": 3,
   "id": "65a60325",
   "metadata": {},
   "outputs": [
    {
     "data": {
      "text/plain": [
       "AnnData object with n_obs × n_vars = 1222 × 33538\n",
       "    var: 'gene_ids', 'feature_types'"
      ]
     },
     "execution_count": 3,
     "metadata": {},
     "output_type": "execute_result"
    }
   ],
   "source": [
    "adata"
   ]
  },
  {
   "cell_type": "code",
   "execution_count": null,
   "id": "7e4221c1",
   "metadata": {},
   "outputs": [],
   "source": []
  },
  {
   "cell_type": "code",
   "execution_count": null,
   "id": "2efb400b",
   "metadata": {},
   "outputs": [],
   "source": [
    "\n"
   ]
  },
  {
   "cell_type": "code",
   "execution_count": 4,
   "id": "83fdf690",
   "metadata": {},
   "outputs": [
    {
     "data": {
      "text/html": [
       "<div>\n",
       "<style scoped>\n",
       "    .dataframe tbody tr th:only-of-type {\n",
       "        vertical-align: middle;\n",
       "    }\n",
       "\n",
       "    .dataframe tbody tr th {\n",
       "        vertical-align: top;\n",
       "    }\n",
       "\n",
       "    .dataframe thead th {\n",
       "        text-align: right;\n",
       "    }\n",
       "</style>\n",
       "<table border=\"1\" class=\"dataframe\">\n",
       "  <thead>\n",
       "    <tr style=\"text-align: right;\">\n",
       "      <th></th>\n",
       "    </tr>\n",
       "  </thead>\n",
       "  <tbody>\n",
       "    <tr>\n",
       "      <th>AAACCCAAGGAGAGTA-1</th>\n",
       "    </tr>\n",
       "    <tr>\n",
       "      <th>AAACGCTTCAGCCCAG-1</th>\n",
       "    </tr>\n",
       "    <tr>\n",
       "      <th>AAAGAACAGACGACTG-1</th>\n",
       "    </tr>\n",
       "    <tr>\n",
       "      <th>AAAGAACCAATGGCAG-1</th>\n",
       "    </tr>\n",
       "    <tr>\n",
       "      <th>AAAGAACGTCTGCAAT-1</th>\n",
       "    </tr>\n",
       "    <tr>\n",
       "      <th>...</th>\n",
       "    </tr>\n",
       "    <tr>\n",
       "      <th>TTTCCTCTCTCTTGCG-1</th>\n",
       "    </tr>\n",
       "    <tr>\n",
       "      <th>TTTGATCTCTTTGGAG-1</th>\n",
       "    </tr>\n",
       "    <tr>\n",
       "      <th>TTTGGTTAGTAACCTC-1</th>\n",
       "    </tr>\n",
       "    <tr>\n",
       "      <th>TTTGGTTGTAGAATAC-1</th>\n",
       "    </tr>\n",
       "    <tr>\n",
       "      <th>TTTGTTGCAATTAGGA-1</th>\n",
       "    </tr>\n",
       "  </tbody>\n",
       "</table>\n",
       "<p>1222 rows × 0 columns</p>\n",
       "</div>"
      ],
      "text/plain": [
       "Empty DataFrame\n",
       "Columns: []\n",
       "Index: [AAACCCAAGGAGAGTA-1, AAACGCTTCAGCCCAG-1, AAAGAACAGACGACTG-1, AAAGAACCAATGGCAG-1, AAAGAACGTCTGCAAT-1, AAAGGATAGTAGACAT-1, AAAGGATCACCGGCTA-1, AAAGGATTCAGCTTGA-1, AAAGGATTCCGTTTCG-1, AAAGGGCTCATGCCCT-1, AAAGGGCTCCGTAGGC-1, AAAGGTACAACTGCTA-1, AAAGTCCAGCGGGTTA-1, AAAGTCCAGTCAACAA-1, AAAGTCCCACCAGCCA-1, AAAGTGATCGTACACA-1, AAATGGAAGCCGCTTG-1, AAATGGACAATGCTCA-1, AAATGGAGTACCGCGT-1, AAATGGATCCTATTTG-1, AACAAAGGTGATGAAT-1, AACAACCAGTAGTCCT-1, AACAACCCACGCTATA-1, AACAAGAGTTATAGAG-1, AACAGGGGTGGGAGAG-1, AACCAACAGCTTGTTG-1, AACCCAACAACTGATC-1, AACCCAAGTGGGCTTC-1, AACCCAATCTTACCGC-1, AACCTGACATCCTATT-1, AACCTTTGTTTCGGCG-1, AACGAAAAGGTTGGTG-1, AACGAAACAATGTCTG-1, AACGAAACAGCGTTTA-1, AACGAAATCCATTTAC-1, AACGGGAGTCGCTCGA-1, AACGTCAAGACGCCCT-1, AAGAACAAGACCATTC-1, AAGAACAAGCCTCAGC-1, AAGAACATCTTGCAAG-1, AAGACAACACTTCAGA-1, AAGACAACAGATCACT-1, AAGACAACAGTAGATA-1, AAGACAATCCGCGAGT-1, AAGACTCGTGACGTCC-1, AAGCATCAGGTCCGAA-1, AAGCATCCAGTCTTCC-1, AAGCGTTCACTGATTG-1, AAGCGTTTCGCTATTT-1, AAGGTAAAGGAAGTAG-1, AAGGTAAAGGCCACCT-1, AAGGTAAGTCCTTAAG-1, AAGTACCAGCGCCTTG-1, AAGTACCAGCTCCATA-1, AAGTACCCAAAGAACT-1, AAGTGAACATCAGCAT-1, AAGTGAATCGGAAGGT-1, AAGTTCGAGGATACAT-1, AAGTTCGGTCAACACT-1, AATCACGAGGCTCTAT-1, AATCGACAGTATGTAG-1, AATCGACGTGAGACGT-1, AATGAAGCAGTATGAA-1, AATGACCGTGTCATCA-1, AATGGAACACTCATAG-1, AATGGAATCTGATGGT-1, AATGGCTAGGACGGAG-1, AATTCCTTCCATTGGA-1, ACAAAGAAGCCTCAAT-1, ACAAAGAGTTCCATTT-1, ACAACCATCTATCCAT-1, ACAACCATCTGCCCTA-1, ACAAGCTGTAGGTCAG-1, ACACCAAAGAGTCAGC-1, ACACGCGGTGTTGCCG-1, ACACGCGTCACCTCGT-1, ACACGCGTCGCCGTGA-1, ACACTGATCACTGATG-1, ACACTGATCTTTCCGG-1, ACAGAAAAGTATTAGG-1, ACAGAAACACCAGCGT-1, ACAGCCGTCGCTGTTC-1, ACATCCCCACAAATGA-1, ACATCCCGTAAGATTG-1, ACATCGATCTAAGAAG-1, ACATCGATCTGAGAGG-1, ACATCGATCTTGGGCG-1, ACATGCAGTTGCTTGA-1, ACATTTCGTGCCGAAA-1, ACATTTCGTTTCTTAC-1, ACCACAAAGGCCTTGC-1, ACCACAAAGGTTAGTA-1, ACCACAAGTCTGTGGC-1, ACCATTTCATTGGGAG-1, ACCCAAAAGCCACAAG-1, ACCCAAAGTTGGGAAC-1, ACCCTTGGTATCGTAC-1, ACCCTTGTCATTTCGT-1, ACCTACCCAACGGTAG-1, ACCTGAACATGAGAAT-1, ...]\n",
       "\n",
       "[1222 rows x 0 columns]"
      ]
     },
     "execution_count": 4,
     "metadata": {},
     "output_type": "execute_result"
    }
   ],
   "source": [
    "adata.obs\n"
   ]
  },
  {
   "cell_type": "code",
   "execution_count": 5,
   "id": "1f7419fa",
   "metadata": {},
   "outputs": [
    {
     "data": {
      "text/html": [
       "<div>\n",
       "<style scoped>\n",
       "    .dataframe tbody tr th:only-of-type {\n",
       "        vertical-align: middle;\n",
       "    }\n",
       "\n",
       "    .dataframe tbody tr th {\n",
       "        vertical-align: top;\n",
       "    }\n",
       "\n",
       "    .dataframe thead th {\n",
       "        text-align: right;\n",
       "    }\n",
       "</style>\n",
       "<table border=\"1\" class=\"dataframe\">\n",
       "  <thead>\n",
       "    <tr style=\"text-align: right;\">\n",
       "      <th></th>\n",
       "      <th>gene_ids</th>\n",
       "      <th>feature_types</th>\n",
       "    </tr>\n",
       "  </thead>\n",
       "  <tbody>\n",
       "    <tr>\n",
       "      <th>MIR1302-2HG</th>\n",
       "      <td>ENSG00000243485</td>\n",
       "      <td>Gene Expression</td>\n",
       "    </tr>\n",
       "    <tr>\n",
       "      <th>FAM138A</th>\n",
       "      <td>ENSG00000237613</td>\n",
       "      <td>Gene Expression</td>\n",
       "    </tr>\n",
       "    <tr>\n",
       "      <th>OR4F5</th>\n",
       "      <td>ENSG00000186092</td>\n",
       "      <td>Gene Expression</td>\n",
       "    </tr>\n",
       "    <tr>\n",
       "      <th>AL627309.1</th>\n",
       "      <td>ENSG00000238009</td>\n",
       "      <td>Gene Expression</td>\n",
       "    </tr>\n",
       "    <tr>\n",
       "      <th>AL627309.3</th>\n",
       "      <td>ENSG00000239945</td>\n",
       "      <td>Gene Expression</td>\n",
       "    </tr>\n",
       "    <tr>\n",
       "      <th>...</th>\n",
       "      <td>...</td>\n",
       "      <td>...</td>\n",
       "    </tr>\n",
       "    <tr>\n",
       "      <th>AC233755.2</th>\n",
       "      <td>ENSG00000277856</td>\n",
       "      <td>Gene Expression</td>\n",
       "    </tr>\n",
       "    <tr>\n",
       "      <th>AC233755.1</th>\n",
       "      <td>ENSG00000275063</td>\n",
       "      <td>Gene Expression</td>\n",
       "    </tr>\n",
       "    <tr>\n",
       "      <th>AC240274.1</th>\n",
       "      <td>ENSG00000271254</td>\n",
       "      <td>Gene Expression</td>\n",
       "    </tr>\n",
       "    <tr>\n",
       "      <th>AC213203.1</th>\n",
       "      <td>ENSG00000277475</td>\n",
       "      <td>Gene Expression</td>\n",
       "    </tr>\n",
       "    <tr>\n",
       "      <th>FAM231C</th>\n",
       "      <td>ENSG00000268674</td>\n",
       "      <td>Gene Expression</td>\n",
       "    </tr>\n",
       "  </tbody>\n",
       "</table>\n",
       "<p>33538 rows × 2 columns</p>\n",
       "</div>"
      ],
      "text/plain": [
       "                    gene_ids    feature_types\n",
       "MIR1302-2HG  ENSG00000243485  Gene Expression\n",
       "FAM138A      ENSG00000237613  Gene Expression\n",
       "OR4F5        ENSG00000186092  Gene Expression\n",
       "AL627309.1   ENSG00000238009  Gene Expression\n",
       "AL627309.3   ENSG00000239945  Gene Expression\n",
       "...                      ...              ...\n",
       "AC233755.2   ENSG00000277856  Gene Expression\n",
       "AC233755.1   ENSG00000275063  Gene Expression\n",
       "AC240274.1   ENSG00000271254  Gene Expression\n",
       "AC213203.1   ENSG00000277475  Gene Expression\n",
       "FAM231C      ENSG00000268674  Gene Expression\n",
       "\n",
       "[33538 rows x 2 columns]"
      ]
     },
     "execution_count": 5,
     "metadata": {},
     "output_type": "execute_result"
    }
   ],
   "source": [
    "adata.var\n"
   ]
  },
  {
   "cell_type": "code",
   "execution_count": 6,
   "id": "866780a0",
   "metadata": {},
   "outputs": [
    {
     "data": {
      "text/plain": [
       "<1222x33538 sparse matrix of type '<class 'numpy.float32'>'\n",
       "\twith 2498225 stored elements in Compressed Sparse Row format>"
      ]
     },
     "execution_count": 6,
     "metadata": {},
     "output_type": "execute_result"
    }
   ],
   "source": [
    "adata.X\n"
   ]
  },
  {
   "cell_type": "code",
   "execution_count": 7,
   "id": "462c6634",
   "metadata": {},
   "outputs": [
    {
     "data": {
      "text/html": [
       "<div>\n",
       "<style scoped>\n",
       "    .dataframe tbody tr th:only-of-type {\n",
       "        vertical-align: middle;\n",
       "    }\n",
       "\n",
       "    .dataframe tbody tr th {\n",
       "        vertical-align: top;\n",
       "    }\n",
       "\n",
       "    .dataframe thead th {\n",
       "        text-align: right;\n",
       "    }\n",
       "</style>\n",
       "<table border=\"1\" class=\"dataframe\">\n",
       "  <thead>\n",
       "    <tr style=\"text-align: right;\">\n",
       "      <th></th>\n",
       "    </tr>\n",
       "  </thead>\n",
       "  <tbody>\n",
       "    <tr>\n",
       "      <th>AAACCCAAGGAGAGTA-1</th>\n",
       "    </tr>\n",
       "    <tr>\n",
       "      <th>AAACGCTTCAGCCCAG-1</th>\n",
       "    </tr>\n",
       "    <tr>\n",
       "      <th>AAAGAACAGACGACTG-1</th>\n",
       "    </tr>\n",
       "    <tr>\n",
       "      <th>AAAGAACCAATGGCAG-1</th>\n",
       "    </tr>\n",
       "    <tr>\n",
       "      <th>AAAGAACGTCTGCAAT-1</th>\n",
       "    </tr>\n",
       "    <tr>\n",
       "      <th>...</th>\n",
       "    </tr>\n",
       "    <tr>\n",
       "      <th>TTTCCTCTCTCTTGCG-1</th>\n",
       "    </tr>\n",
       "    <tr>\n",
       "      <th>TTTGATCTCTTTGGAG-1</th>\n",
       "    </tr>\n",
       "    <tr>\n",
       "      <th>TTTGGTTAGTAACCTC-1</th>\n",
       "    </tr>\n",
       "    <tr>\n",
       "      <th>TTTGGTTGTAGAATAC-1</th>\n",
       "    </tr>\n",
       "    <tr>\n",
       "      <th>TTTGTTGCAATTAGGA-1</th>\n",
       "    </tr>\n",
       "  </tbody>\n",
       "</table>\n",
       "<p>1222 rows × 0 columns</p>\n",
       "</div>"
      ],
      "text/plain": [
       "Empty DataFrame\n",
       "Columns: []\n",
       "Index: [AAACCCAAGGAGAGTA-1, AAACGCTTCAGCCCAG-1, AAAGAACAGACGACTG-1, AAAGAACCAATGGCAG-1, AAAGAACGTCTGCAAT-1, AAAGGATAGTAGACAT-1, AAAGGATCACCGGCTA-1, AAAGGATTCAGCTTGA-1, AAAGGATTCCGTTTCG-1, AAAGGGCTCATGCCCT-1, AAAGGGCTCCGTAGGC-1, AAAGGTACAACTGCTA-1, AAAGTCCAGCGGGTTA-1, AAAGTCCAGTCAACAA-1, AAAGTCCCACCAGCCA-1, AAAGTGATCGTACACA-1, AAATGGAAGCCGCTTG-1, AAATGGACAATGCTCA-1, AAATGGAGTACCGCGT-1, AAATGGATCCTATTTG-1, AACAAAGGTGATGAAT-1, AACAACCAGTAGTCCT-1, AACAACCCACGCTATA-1, AACAAGAGTTATAGAG-1, AACAGGGGTGGGAGAG-1, AACCAACAGCTTGTTG-1, AACCCAACAACTGATC-1, AACCCAAGTGGGCTTC-1, AACCCAATCTTACCGC-1, AACCTGACATCCTATT-1, AACCTTTGTTTCGGCG-1, AACGAAAAGGTTGGTG-1, AACGAAACAATGTCTG-1, AACGAAACAGCGTTTA-1, AACGAAATCCATTTAC-1, AACGGGAGTCGCTCGA-1, AACGTCAAGACGCCCT-1, AAGAACAAGACCATTC-1, AAGAACAAGCCTCAGC-1, AAGAACATCTTGCAAG-1, AAGACAACACTTCAGA-1, AAGACAACAGATCACT-1, AAGACAACAGTAGATA-1, AAGACAATCCGCGAGT-1, AAGACTCGTGACGTCC-1, AAGCATCAGGTCCGAA-1, AAGCATCCAGTCTTCC-1, AAGCGTTCACTGATTG-1, AAGCGTTTCGCTATTT-1, AAGGTAAAGGAAGTAG-1, AAGGTAAAGGCCACCT-1, AAGGTAAGTCCTTAAG-1, AAGTACCAGCGCCTTG-1, AAGTACCAGCTCCATA-1, AAGTACCCAAAGAACT-1, AAGTGAACATCAGCAT-1, AAGTGAATCGGAAGGT-1, AAGTTCGAGGATACAT-1, AAGTTCGGTCAACACT-1, AATCACGAGGCTCTAT-1, AATCGACAGTATGTAG-1, AATCGACGTGAGACGT-1, AATGAAGCAGTATGAA-1, AATGACCGTGTCATCA-1, AATGGAACACTCATAG-1, AATGGAATCTGATGGT-1, AATGGCTAGGACGGAG-1, AATTCCTTCCATTGGA-1, ACAAAGAAGCCTCAAT-1, ACAAAGAGTTCCATTT-1, ACAACCATCTATCCAT-1, ACAACCATCTGCCCTA-1, ACAAGCTGTAGGTCAG-1, ACACCAAAGAGTCAGC-1, ACACGCGGTGTTGCCG-1, ACACGCGTCACCTCGT-1, ACACGCGTCGCCGTGA-1, ACACTGATCACTGATG-1, ACACTGATCTTTCCGG-1, ACAGAAAAGTATTAGG-1, ACAGAAACACCAGCGT-1, ACAGCCGTCGCTGTTC-1, ACATCCCCACAAATGA-1, ACATCCCGTAAGATTG-1, ACATCGATCTAAGAAG-1, ACATCGATCTGAGAGG-1, ACATCGATCTTGGGCG-1, ACATGCAGTTGCTTGA-1, ACATTTCGTGCCGAAA-1, ACATTTCGTTTCTTAC-1, ACCACAAAGGCCTTGC-1, ACCACAAAGGTTAGTA-1, ACCACAAGTCTGTGGC-1, ACCATTTCATTGGGAG-1, ACCCAAAAGCCACAAG-1, ACCCAAAGTTGGGAAC-1, ACCCTTGGTATCGTAC-1, ACCCTTGTCATTTCGT-1, ACCTACCCAACGGTAG-1, ACCTGAACATGAGAAT-1, ...]\n",
       "\n",
       "[1222 rows x 0 columns]"
      ]
     },
     "execution_count": 7,
     "metadata": {},
     "output_type": "execute_result"
    }
   ],
   "source": [
    "adata.obs\n"
   ]
  },
  {
   "cell_type": "code",
   "execution_count": 8,
   "id": "797ae8f7",
   "metadata": {},
   "outputs": [],
   "source": [
    "#adding columns to the object\n",
    "adata.obs[\"cell_label\"]=\"cell_xx\"\n"
   ]
  },
  {
   "cell_type": "code",
   "execution_count": 9,
   "id": "f7475a5e",
   "metadata": {},
   "outputs": [
    {
     "data": {
      "text/html": [
       "<div>\n",
       "<style scoped>\n",
       "    .dataframe tbody tr th:only-of-type {\n",
       "        vertical-align: middle;\n",
       "    }\n",
       "\n",
       "    .dataframe tbody tr th {\n",
       "        vertical-align: top;\n",
       "    }\n",
       "\n",
       "    .dataframe thead th {\n",
       "        text-align: right;\n",
       "    }\n",
       "</style>\n",
       "<table border=\"1\" class=\"dataframe\">\n",
       "  <thead>\n",
       "    <tr style=\"text-align: right;\">\n",
       "      <th></th>\n",
       "      <th>cell_label</th>\n",
       "    </tr>\n",
       "  </thead>\n",
       "  <tbody>\n",
       "    <tr>\n",
       "      <th>AAACCCAAGGAGAGTA-1</th>\n",
       "      <td>cell_xx</td>\n",
       "    </tr>\n",
       "    <tr>\n",
       "      <th>AAACGCTTCAGCCCAG-1</th>\n",
       "      <td>cell_xx</td>\n",
       "    </tr>\n",
       "    <tr>\n",
       "      <th>AAAGAACAGACGACTG-1</th>\n",
       "      <td>cell_xx</td>\n",
       "    </tr>\n",
       "    <tr>\n",
       "      <th>AAAGAACCAATGGCAG-1</th>\n",
       "      <td>cell_xx</td>\n",
       "    </tr>\n",
       "    <tr>\n",
       "      <th>AAAGAACGTCTGCAAT-1</th>\n",
       "      <td>cell_xx</td>\n",
       "    </tr>\n",
       "    <tr>\n",
       "      <th>...</th>\n",
       "      <td>...</td>\n",
       "    </tr>\n",
       "    <tr>\n",
       "      <th>TTTCCTCTCTCTTGCG-1</th>\n",
       "      <td>cell_xx</td>\n",
       "    </tr>\n",
       "    <tr>\n",
       "      <th>TTTGATCTCTTTGGAG-1</th>\n",
       "      <td>cell_xx</td>\n",
       "    </tr>\n",
       "    <tr>\n",
       "      <th>TTTGGTTAGTAACCTC-1</th>\n",
       "      <td>cell_xx</td>\n",
       "    </tr>\n",
       "    <tr>\n",
       "      <th>TTTGGTTGTAGAATAC-1</th>\n",
       "      <td>cell_xx</td>\n",
       "    </tr>\n",
       "    <tr>\n",
       "      <th>TTTGTTGCAATTAGGA-1</th>\n",
       "      <td>cell_xx</td>\n",
       "    </tr>\n",
       "  </tbody>\n",
       "</table>\n",
       "<p>1222 rows × 1 columns</p>\n",
       "</div>"
      ],
      "text/plain": [
       "                   cell_label\n",
       "AAACCCAAGGAGAGTA-1    cell_xx\n",
       "AAACGCTTCAGCCCAG-1    cell_xx\n",
       "AAAGAACAGACGACTG-1    cell_xx\n",
       "AAAGAACCAATGGCAG-1    cell_xx\n",
       "AAAGAACGTCTGCAAT-1    cell_xx\n",
       "...                       ...\n",
       "TTTCCTCTCTCTTGCG-1    cell_xx\n",
       "TTTGATCTCTTTGGAG-1    cell_xx\n",
       "TTTGGTTAGTAACCTC-1    cell_xx\n",
       "TTTGGTTGTAGAATAC-1    cell_xx\n",
       "TTTGTTGCAATTAGGA-1    cell_xx\n",
       "\n",
       "[1222 rows x 1 columns]"
      ]
     },
     "execution_count": 9,
     "metadata": {},
     "output_type": "execute_result"
    }
   ],
   "source": [
    "adata.obs"
   ]
  },
  {
   "cell_type": "code",
   "execution_count": 10,
   "id": "017114f1",
   "metadata": {},
   "outputs": [
    {
     "data": {
      "text/plain": [
       "AnnData object with n_obs × n_vars = 1222 × 33538\n",
       "    obs: 'cell_label'\n",
       "    var: 'gene_ids', 'feature_types'"
      ]
     },
     "execution_count": 10,
     "metadata": {},
     "output_type": "execute_result"
    }
   ],
   "source": [
    "adata"
   ]
  },
  {
   "cell_type": "code",
   "execution_count": 11,
   "id": "392b468d",
   "metadata": {},
   "outputs": [],
   "source": [
    "#log transforming the ann data matrix\n",
    "adata.layers[\"log_transforms\"]=np.log1p(adata.X)"
   ]
  },
  {
   "cell_type": "code",
   "execution_count": 12,
   "id": "77cde608",
   "metadata": {},
   "outputs": [
    {
     "data": {
      "text/plain": [
       "AnnData object with n_obs × n_vars = 1222 × 33538\n",
       "    obs: 'cell_label'\n",
       "    var: 'gene_ids', 'feature_types'\n",
       "    layers: 'log_transforms'"
      ]
     },
     "execution_count": 12,
     "metadata": {},
     "output_type": "execute_result"
    }
   ],
   "source": [
    "adata"
   ]
  },
  {
   "cell_type": "code",
   "execution_count": 13,
   "id": "a6e2901c",
   "metadata": {},
   "outputs": [],
   "source": [
    "#next step is quality control.This will include filtering out low read in cells and similar noise! This is different from what cell\n",
    "#ranger does.\n",
    "#low gene expression, less cells with particular gene expressed and mitochondrial gene\n",
    "\n",
    "#cells with low gene expression - preprocessing -pp\n",
    "\n",
    "sc.pp.filter_cells(adata,min_genes=50)"
   ]
  },
  {
   "cell_type": "code",
   "execution_count": 14,
   "id": "7c6efb76",
   "metadata": {},
   "outputs": [
    {
     "data": {
      "text/plain": [
       "AnnData object with n_obs × n_vars = 1189 × 33538\n",
       "    obs: 'cell_label', 'n_genes'\n",
       "    var: 'gene_ids', 'feature_types'\n",
       "    layers: 'log_transforms'"
      ]
     },
     "execution_count": 14,
     "metadata": {},
     "output_type": "execute_result"
    }
   ],
   "source": [
    "adata"
   ]
  },
  {
   "cell_type": "code",
   "execution_count": 15,
   "id": "2f3a0477",
   "metadata": {},
   "outputs": [],
   "source": [
    "#filter low gene expression - preprocessing -pp\n",
    "\n",
    "sc.pp.filter_genes(adata,min_cells=3)"
   ]
  },
  {
   "cell_type": "code",
   "execution_count": 16,
   "id": "17b0d81e",
   "metadata": {},
   "outputs": [
    {
     "data": {
      "text/plain": [
       "AnnData object with n_obs × n_vars = 1189 × 15247\n",
       "    obs: 'cell_label', 'n_genes'\n",
       "    var: 'gene_ids', 'feature_types', 'n_cells'\n",
       "    layers: 'log_transforms'"
      ]
     },
     "execution_count": 16,
     "metadata": {},
     "output_type": "execute_result"
    }
   ],
   "source": [
    "adata"
   ]
  },
  {
   "cell_type": "code",
   "execution_count": 17,
   "id": "39586653",
   "metadata": {},
   "outputs": [],
   "source": [
    "#filter mitochondrial content. This will give you a boolean array\n",
    "\n",
    "adata.var[\"mt\"]=adata.var_names.str.startswith(\"MT-\")"
   ]
  },
  {
   "cell_type": "code",
   "execution_count": 18,
   "id": "2e9c72c8",
   "metadata": {},
   "outputs": [
    {
     "data": {
      "text/html": [
       "<div>\n",
       "<style scoped>\n",
       "    .dataframe tbody tr th:only-of-type {\n",
       "        vertical-align: middle;\n",
       "    }\n",
       "\n",
       "    .dataframe tbody tr th {\n",
       "        vertical-align: top;\n",
       "    }\n",
       "\n",
       "    .dataframe thead th {\n",
       "        text-align: right;\n",
       "    }\n",
       "</style>\n",
       "<table border=\"1\" class=\"dataframe\">\n",
       "  <thead>\n",
       "    <tr style=\"text-align: right;\">\n",
       "      <th></th>\n",
       "      <th>gene_ids</th>\n",
       "      <th>feature_types</th>\n",
       "      <th>n_cells</th>\n",
       "      <th>mt</th>\n",
       "    </tr>\n",
       "  </thead>\n",
       "  <tbody>\n",
       "    <tr>\n",
       "      <th>AL627309.1</th>\n",
       "      <td>ENSG00000238009</td>\n",
       "      <td>Gene Expression</td>\n",
       "      <td>6</td>\n",
       "      <td>False</td>\n",
       "    </tr>\n",
       "    <tr>\n",
       "      <th>AL669831.5</th>\n",
       "      <td>ENSG00000237491</td>\n",
       "      <td>Gene Expression</td>\n",
       "      <td>75</td>\n",
       "      <td>False</td>\n",
       "    </tr>\n",
       "    <tr>\n",
       "      <th>LINC00115</th>\n",
       "      <td>ENSG00000225880</td>\n",
       "      <td>Gene Expression</td>\n",
       "      <td>40</td>\n",
       "      <td>False</td>\n",
       "    </tr>\n",
       "    <tr>\n",
       "      <th>FAM41C</th>\n",
       "      <td>ENSG00000230368</td>\n",
       "      <td>Gene Expression</td>\n",
       "      <td>37</td>\n",
       "      <td>False</td>\n",
       "    </tr>\n",
       "    <tr>\n",
       "      <th>NOC2L</th>\n",
       "      <td>ENSG00000188976</td>\n",
       "      <td>Gene Expression</td>\n",
       "      <td>293</td>\n",
       "      <td>False</td>\n",
       "    </tr>\n",
       "    <tr>\n",
       "      <th>...</th>\n",
       "      <td>...</td>\n",
       "      <td>...</td>\n",
       "      <td>...</td>\n",
       "      <td>...</td>\n",
       "    </tr>\n",
       "    <tr>\n",
       "      <th>AC011043.1</th>\n",
       "      <td>ENSG00000276256</td>\n",
       "      <td>Gene Expression</td>\n",
       "      <td>7</td>\n",
       "      <td>False</td>\n",
       "    </tr>\n",
       "    <tr>\n",
       "      <th>AL592183.1</th>\n",
       "      <td>ENSG00000273748</td>\n",
       "      <td>Gene Expression</td>\n",
       "      <td>6</td>\n",
       "      <td>False</td>\n",
       "    </tr>\n",
       "    <tr>\n",
       "      <th>AC007325.4</th>\n",
       "      <td>ENSG00000278817</td>\n",
       "      <td>Gene Expression</td>\n",
       "      <td>17</td>\n",
       "      <td>False</td>\n",
       "    </tr>\n",
       "    <tr>\n",
       "      <th>AL354822.1</th>\n",
       "      <td>ENSG00000278384</td>\n",
       "      <td>Gene Expression</td>\n",
       "      <td>27</td>\n",
       "      <td>False</td>\n",
       "    </tr>\n",
       "    <tr>\n",
       "      <th>AC240274.1</th>\n",
       "      <td>ENSG00000271254</td>\n",
       "      <td>Gene Expression</td>\n",
       "      <td>10</td>\n",
       "      <td>False</td>\n",
       "    </tr>\n",
       "  </tbody>\n",
       "</table>\n",
       "<p>15247 rows × 4 columns</p>\n",
       "</div>"
      ],
      "text/plain": [
       "                   gene_ids    feature_types  n_cells     mt\n",
       "AL627309.1  ENSG00000238009  Gene Expression        6  False\n",
       "AL669831.5  ENSG00000237491  Gene Expression       75  False\n",
       "LINC00115   ENSG00000225880  Gene Expression       40  False\n",
       "FAM41C      ENSG00000230368  Gene Expression       37  False\n",
       "NOC2L       ENSG00000188976  Gene Expression      293  False\n",
       "...                     ...              ...      ...    ...\n",
       "AC011043.1  ENSG00000276256  Gene Expression        7  False\n",
       "AL592183.1  ENSG00000273748  Gene Expression        6  False\n",
       "AC007325.4  ENSG00000278817  Gene Expression       17  False\n",
       "AL354822.1  ENSG00000278384  Gene Expression       27  False\n",
       "AC240274.1  ENSG00000271254  Gene Expression       10  False\n",
       "\n",
       "[15247 rows x 4 columns]"
      ]
     },
     "execution_count": 18,
     "metadata": {},
     "output_type": "execute_result"
    }
   ],
   "source": [
    "adata.var"
   ]
  },
  {
   "cell_type": "code",
   "execution_count": 19,
   "id": "f2831298",
   "metadata": {},
   "outputs": [
    {
     "data": {
      "text/plain": [
       "13"
      ]
     },
     "execution_count": 19,
     "metadata": {},
     "output_type": "execute_result"
    }
   ],
   "source": [
    "len(adata.var[adata.var.mt==True])"
   ]
  },
  {
   "cell_type": "code",
   "execution_count": 20,
   "id": "36ff81e9",
   "metadata": {},
   "outputs": [],
   "source": [
    "#filter the mitochondrial content homework!!\n",
    "#how to access different parts of anndata objects, columns etc. \n"
   ]
  },
  {
   "cell_type": "code",
   "execution_count": 21,
   "id": "dec78ad5",
   "metadata": {},
   "outputs": [
    {
     "name": "stdout",
     "output_type": "stream",
     "text": [
      "                    AL627309.1  AL669831.5  LINC00115  FAM41C  NOC2L  KLHL17  \\\n",
      "AAACCCAAGGAGAGTA-1         0.0         0.0        0.0     0.0    0.0     0.0   \n",
      "AAACGCTTCAGCCCAG-1         0.0         0.0        0.0     0.0    0.0     0.0   \n",
      "AAAGAACAGACGACTG-1         0.0         0.0        0.0     0.0    0.0     0.0   \n",
      "AAAGAACCAATGGCAG-1         0.0         0.0        0.0     0.0    1.0     0.0   \n",
      "AAAGAACGTCTGCAAT-1         0.0         0.0        0.0     0.0    0.0     0.0   \n",
      "...                        ...         ...        ...     ...    ...     ...   \n",
      "TTTCCTCTCTCTTGCG-1         0.0         0.0        0.0     0.0    0.0     0.0   \n",
      "TTTGATCTCTTTGGAG-1         0.0         0.0        0.0     0.0    0.0     0.0   \n",
      "TTTGGTTAGTAACCTC-1         0.0         0.0        1.0     0.0    0.0     0.0   \n",
      "TTTGGTTGTAGAATAC-1         0.0         0.0        0.0     0.0    1.0     0.0   \n",
      "TTTGTTGCAATTAGGA-1         0.0         0.0        0.0     0.0    1.0     0.0   \n",
      "\n",
      "                    PLEKHN1  AL645608.8  HES4  ISG15  ...  MT-ND5  MT-ND6  \\\n",
      "AAACCCAAGGAGAGTA-1      0.0         0.0   0.0    0.0  ...    17.0     0.0   \n",
      "AAACGCTTCAGCCCAG-1      0.0         0.0   0.0    1.0  ...    15.0     1.0   \n",
      "AAAGAACAGACGACTG-1      0.0         0.0   0.0    0.0  ...     6.0     0.0   \n",
      "AAAGAACCAATGGCAG-1      0.0         0.0   0.0    0.0  ...     5.0     0.0   \n",
      "AAAGAACGTCTGCAAT-1      0.0         0.0   0.0    1.0  ...    16.0     0.0   \n",
      "...                     ...         ...   ...    ...  ...     ...     ...   \n",
      "TTTCCTCTCTCTTGCG-1      0.0         1.0   5.0    1.0  ...    24.0     0.0   \n",
      "TTTGATCTCTTTGGAG-1      0.0         0.0   0.0    0.0  ...    31.0     3.0   \n",
      "TTTGGTTAGTAACCTC-1      0.0         0.0   0.0    0.0  ...     8.0     0.0   \n",
      "TTTGGTTGTAGAATAC-1      0.0         0.0   2.0    0.0  ...    10.0     0.0   \n",
      "TTTGTTGCAATTAGGA-1      0.0         0.0   0.0    1.0  ...     9.0     0.0   \n",
      "\n",
      "                    MT-CYB  BX004987.1  MAFIP  AC011043.1  AL592183.1  \\\n",
      "AAACCCAAGGAGAGTA-1    60.0         0.0    0.0         0.0         0.0   \n",
      "AAACGCTTCAGCCCAG-1    31.0         0.0    0.0         0.0         0.0   \n",
      "AAAGAACAGACGACTG-1    28.0         0.0    0.0         0.0         0.0   \n",
      "AAAGAACCAATGGCAG-1    11.0         0.0    0.0         0.0         0.0   \n",
      "AAAGAACGTCTGCAAT-1    32.0         0.0    0.0         0.0         0.0   \n",
      "...                    ...         ...    ...         ...         ...   \n",
      "TTTCCTCTCTCTTGCG-1    87.0         0.0    0.0         0.0         0.0   \n",
      "TTTGATCTCTTTGGAG-1    60.0         0.0    0.0         0.0         0.0   \n",
      "TTTGGTTAGTAACCTC-1    43.0         0.0    0.0         0.0         0.0   \n",
      "TTTGGTTGTAGAATAC-1    81.0         0.0    0.0         0.0         0.0   \n",
      "TTTGTTGCAATTAGGA-1    39.0         0.0    0.0         0.0         0.0   \n",
      "\n",
      "                    AC007325.4  AL354822.1  AC240274.1  \n",
      "AAACCCAAGGAGAGTA-1         0.0         0.0         0.0  \n",
      "AAACGCTTCAGCCCAG-1         0.0         0.0         0.0  \n",
      "AAAGAACAGACGACTG-1         0.0         0.0         0.0  \n",
      "AAAGAACCAATGGCAG-1         0.0         1.0         0.0  \n",
      "AAAGAACGTCTGCAAT-1         0.0         0.0         0.0  \n",
      "...                        ...         ...         ...  \n",
      "TTTCCTCTCTCTTGCG-1         0.0         0.0         0.0  \n",
      "TTTGATCTCTTTGGAG-1         0.0         0.0         0.0  \n",
      "TTTGGTTAGTAACCTC-1         0.0         0.0         0.0  \n",
      "TTTGGTTGTAGAATAC-1         0.0         0.0         0.0  \n",
      "TTTGTTGCAATTAGGA-1         0.0         0.0         0.0  \n",
      "\n",
      "[1189 rows x 15247 columns]\n",
      "[False False False ... False False False]\n",
      "AAACCCAAGGAGAGTA-1     68.692307\n",
      "AAACGCTTCAGCCCAG-1     33.769230\n",
      "AAAGAACAGACGACTG-1     20.384615\n",
      "AAAGAACCAATGGCAG-1     12.692307\n",
      "AAAGAACGTCTGCAAT-1     33.538460\n",
      "                         ...    \n",
      "TTTCCTCTCTCTTGCG-1    103.076920\n",
      "TTTGATCTCTTTGGAG-1     49.769230\n",
      "TTTGGTTAGTAACCTC-1     29.538462\n",
      "TTTGGTTGTAGAATAC-1     87.846153\n",
      "TTTGTTGCAATTAGGA-1     28.692308\n",
      "Length: 1189, dtype: float32\n"
     ]
    },
    {
     "data": {
      "image/png": "[encoded data removed]",
      "text/plain": [
       "<Figure size 600x500 with 1 Axes>"
      ]
     },
     "metadata": {},
     "output_type": "display_data"
    }
   ],
   "source": [
    "# how to filter mitochondrial genes\n",
    "#Step 1 : converting Anndata to pandas dataframe\n",
    "adata_2 = adata.to_df(layer=None)\n",
    "print (adata_2)\n",
    "mitochondrial_gene_list = np.array([g.startswith('MT-') for g in adata_2])\n",
    "print (mitochondrial_gene_list)\n",
    "# Step 2: get expression\n",
    "mito_exp = adata_2.loc[:,mitochondrial_gene_list].mean(axis=1)\n",
    "# Step 3: plotting mitochondrial gene expression\n",
    "fig, ax = plt.subplots(1, figsize=(6,5))\n",
    "\n",
    "ax.hist(mito_exp, bins=100)\n",
    "ax.set_xlabel('Mean mitochondrial expression')\n",
    "ax.set_ylabel('# of cells')\n",
    "ax.set_title('Mitochondrial expression')\n",
    "# Step 4 : printing filtered list without mitochondrial genes\n",
    "print (mito_exp)\n"
   ]
  },
  {
   "cell_type": "markdown",
   "id": "50fb4c90",
   "metadata": {},
   "source": [
    "# title\n",
    "## title\n",
    "### title\n",
    "I am learning a lot"
   ]
  },
  {
   "cell_type": "code",
   "execution_count": 22,
   "id": "9b8a7e12",
   "metadata": {},
   "outputs": [
    {
     "data": {
      "image/png": "[encoded data removed]",
      "text/plain": [
       "<Figure size 500x550 with 1 Axes>"
      ]
     },
     "metadata": {},
     "output_type": "display_data"
    }
   ],
   "source": [
    "sc.pl.highest_expr_genes(adata, n_top=20, )"
   ]
  },
  {
   "cell_type": "code",
   "execution_count": null,
   "id": "096ba403",
   "metadata": {},
   "outputs": [],
   "source": []
  }
 ],
 "metadata": {
  "kernelspec": {
   "display_name": "Python 3 (ipykernel)",
   "language": "python",
   "name": "python3"
  },
  "language_info": {
   "codemirror_mode": {
    "name": "ipython",
    "version": 3
   },
   "file_extension": ".py",
   "mimetype": "text/x-python",
   "name": "python",
   "nbconvert_exporter": "python",
   "pygments_lexer": "ipython3",
   "version": "3.9.13"
  }
 },
 "nbformat": 4,
 "nbformat_minor": 5
}
